{
 "cells": [
  {
   "cell_type": "code",
   "execution_count": 6,
   "metadata": {},
   "outputs": [],
   "source": [
    "import os\n",
    "import getpass\n",
    "os.environ[\"ANTHROPIC_API_KEY\"] = getpass.getpass()"
   ]
  },
  {
   "cell_type": "markdown",
   "metadata": {},
   "source": [
    "# Ranker"
   ]
  },
  {
   "cell_type": "code",
   "execution_count": 57,
   "metadata": {},
   "outputs": [],
   "source": [
    "RANKER_PROMPT = \"\"\"You are a highly critical and discerning research program evaluator with deep expertise in compression and the sciences.\n",
    "\n",
    "There has been a recent BREAKTHROUGH in the field of compression. Your task is to explore novel and impactful discoveries that this BREAKTHROUGH will enable.\n",
    "\n",
    "You will be given two inputs:\n",
    "1) a summary of the research breakthrough.\n",
    "2) another research paper that explores a specific problem.\n",
    "\n",
    "Your task is to EVALUATE whether this breakthrough could be leveraged to improve the given research paper significantly.\n",
    "\n",
    "Think step by step, and plan a very specific strategy you could work on to improve this research paper in different ways:\n",
    "- Change the methodology.\n",
    "- Optimize the results.\n",
    "- Change the results.\n",
    "- Change the conclusion.\n",
    "\n",
    "**Evaluation Metrics:**\n",
    "\n",
    "1.  **NOVELTY (Score 1-5, 5 being highly novel):**\n",
    "    *   How original is this idea?\n",
    "    *   Does it propose a genuinely new application, methodology, or theoretical extension of the LMCompress breakthrough?\n",
    "    *   Or, is it an obvious next step, a minor tweak to existing work, or a rehash of old concepts merely relabeled with \"LLM compression\"?\n",
    "    *   **Justification required.**\n",
    "\n",
    "2.  **IMPORTANCE (Score 1-5, 5 being critically important):**\n",
    "    *   What is the potential impact of this idea if successfully realized?\n",
    "    *   Would it solve a significant problem, open up major new capabilities, or substantially advance our understanding or application of semantic compression?\n",
    "    *   Consider its practical, theoretical, or societal relevance.\n",
    "    *   **Justification required.**\n",
    "\n",
    "3.  **FEASIBILITY & VERIFIABILITY (Combined Score 1-5, 5 being highly feasible & verifiable):**\n",
    "    *   **Feasibility:** Can a proof-of-concept (PoC) or a minimal viable demonstration for this idea be reasonably implemented with current or near-future resources and technology (assuming the LMCompress capability exists)?\n",
    "    *   **Verifiability:** Can the success or failure of this idea be clearly demonstrated and validated *quickly*?\n",
    "        *   This means an output that can be checked by code (e.g., a compression ratio achieved, a task completed, a specific measurable outcome).\n",
    "        *   OR, by a human inspecting a tangible result (e.g., a decoded image's quality, a summarized text's accuracy, a correctly derived mathematical step, a functioning compressed communication channel) within minutes.\n",
    "        *   Is the proposed verification method robust and unambiguous?\n",
    "    *   **Justification required.**\n",
    "\n",
    "4.  **RELIANCE ON SEMANTIC COMPRESSION (Score 1-5, 5 meaning critically reliant):**\n",
    "    *   Is the *efficient compression of semantic data* (as enabled by LMCompress) the *core* enabler or the *primary bottleneck* that this idea addresses?\n",
    "    *   In other words, was this idea largely impractical, significantly less effective, or even impossible *before* a breakthrough like LMCompress, specifically due to the inability to efficiently compress or leverage the semantic understanding of data like text, images, audio, or complex symbolic structures?\n",
    "    *   If the idea could have been pursued almost as effectively with older compression techniques or non-compression-focused AI, it scores lower here.\n",
    "    *   **Justification required.**\n",
    "\n",
    "**Overall Assessment:**\n",
    "Sum up all the scores yielded by the individual metrics to get a final score.\n",
    "\n",
    "**Input Format:**\n",
    "Here is the breaktrhough paper: [breakthrough_paper]\n",
    "Here is the research paper: [research_paper]\n",
    "\n",
    "**Output Format:**\n",
    "-   Research paper summary: [...]\n",
    "-   Strategy to improve the research paper: [...]\n",
    "-   Novelty: [Score]/5. Justification: [...]\n",
    "-   Importance: [Score]/5. Justification: [...]\n",
    "-   Feasibility & Verifiability: [Score]/5. Justification: [...]\n",
    "-   Reliance on Semantic Compression: [Score]/5. Justification: [...]\n",
    "-   Overall Assessment: [Score]/20\n",
    "---\n",
    "\"\"\""
   ]
  },
  {
   "cell_type": "code",
   "execution_count": 31,
   "metadata": {},
   "outputs": [],
   "source": [
    "import PyPDF2\n",
    "def extract_text_from_pdf(pdf_path):\n",
    "    text = \"\"\n",
    "    with open(pdf_path, 'rb') as file:\n",
    "        reader = PyPDF2.PdfReader(file)\n",
    "        for page in reader.pages:\n",
    "            text += page.extract_text()\n",
    "    return text"
   ]
  },
  {
   "cell_type": "code",
   "execution_count": 56,
   "metadata": {},
   "outputs": [],
   "source": [
    "from anthropic import Anthropic\n",
    "client = Anthropic()\n",
    "\n",
    "def rank(breakthrough_paper, research_paper):\n",
    "    breakthrough_paper = extract_text_from_pdf(breakthrough_paper)\n",
    "    research_paper = extract_text_from_pdf(research_paper)\n",
    "\n",
    "    res = client.messages.create(\n",
    "        model=\"claude-opus-4-0\",\n",
    "        system=RANKER_PROMPT,\n",
    "        max_tokens=2000,\n",
    "        messages=[\n",
    "            {\"role\": \"user\", \"content\": f\"Here is the breaktrhough paper: {breakthrough_paper}\\n\\nHere is the research paper: {research_paper}\"}\n",
    "        ]\n",
    "    )\n",
    "    with open(f'ranker_outputs/test.txt', 'wb') as f:\n",
    "        f.write(res.content[0].text.encode('utf-8'))\n",
    "    return res.content[0].text\n"
   ]
  },
  {
   "cell_type": "code",
   "execution_count": 44,
   "metadata": {},
   "outputs": [],
   "source": [
    "res = rank('../optimizations/understanding_is_compression/https:arxiv.org:pdf:2407.07723.pdf', '../optimizations/understanding_is_compression/https:arxiv.org:pdf:2407.07723.pdf')"
   ]
  }
 ],
 "metadata": {
  "kernelspec": {
   "display_name": ".venv",
   "language": "python",
   "name": "python3"
  },
  "language_info": {
   "codemirror_mode": {
    "name": "ipython",
    "version": 3
   },
   "file_extension": ".py",
   "mimetype": "text/x-python",
   "name": "python",
   "nbconvert_exporter": "python",
   "pygments_lexer": "ipython3",
   "version": "3.13.3"
  }
 },
 "nbformat": 4,
 "nbformat_minor": 2
}
